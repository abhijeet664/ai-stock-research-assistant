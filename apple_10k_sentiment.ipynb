{
 "cells": [
  {
   "cell_type": "markdown",
   "metadata": {},
   "source": [
    "# Apple 10-K Risk Factors Sentiment Analysis (Last 5 Years)\n",
    "This notebook downloads Apple Inc. (AAPL) 10-K filings, extracts the 'Risk Factors' section, and analyzes the sentiment using TextBlob."
   ]
  },
  {
   "cell_type": "code",
   "execution_count": null,
   "metadata": {},
   "outputs": [],
   "source": [
    "# Install necessary packages\n",
    "!pip install sec-edgar-downloader textblob beautifulsoup4 pandas matplotlib"
   ]
  },
  {
   "cell_type": "code",
   "execution_count": null,
   "metadata": {},
   "outputs": [],
   "source": [
    "from sec_edgar_downloader import Downloader\n",
    "import os\n",
    "import re\n",
    "from bs4 import BeautifulSoup\n",
    "from textblob import TextBlob\n",
    "import pandas as pd\n",
    "import matplotlib.pyplot as plt"
   ]
  },
  {
   "cell_type": "code",
   "execution_count": null,
   "metadata": {},
   "outputs": [],
   "source": [
    "# Step 1: Download AAPL 10-K filings\n",
    "dl = Downloader("./sec")\n",
    "dl.get("10-K", "AAPL", amount=5)"
   ]
  },
  {
   "cell_type": "code",
   "execution_count": null,
   "metadata": {},
   "outputs": [],
   "source": [
    "# Step 2: Extract and clean Risk Factors section\n",
    "filings_path = Path("./sec/sec-edgar-filings/AAPL/10-K")\n",
    "data = []\n",
    "
",
    "for folder in sorted(filings_path.iterdir(), reverse=True):\n",
    "    filing_year = folder.name[:4]\n",
    "    html_file = next(folder.glob("*.html"), None)\n",
    "    if html_file:\n",
    "        with open(html_file, 'r', encoding='utf-8', errors='ignore') as f:\n",
    "            soup = BeautifulSoup(f.read(), 'html.parser')\n",
    "            text = soup.get_text(separator=' ')\n",
    "            # Extract Risk Factors section\n",
    "            match = re.search(r"Item\s+1A\.?\s+Risk Factors(.*?)Item\s+1B", text, re.DOTALL | re.IGNORECASE)\n",
    "            if match:\n",
    "                risk_text = match.group(1).strip().replace('\n', ' ')\n",
    "                blob = TextBlob(risk_text)\n",
    "                polarity = blob.sentiment.polarity\n",
    "                subjectivity = blob.sentiment.subjectivity\n",
    "                data.append({\n",
    "                    "Year": filing_year,\n",
    "                    "Polarity": polarity,\n",
    "                    "Subjectivity": subjectivity\n",
    "                })"
   ]
  },
  {
   "cell_type": "code",
   "execution_count": null,
   "metadata": {},
   "outputs": [],
   "source": [
    "# Step 3: Create DataFrame and visualize\n",
    "df = pd.DataFrame(data).sort_values("Year")\n",
    "print(df)\n",
    "
",
    "# Plotting\n",
    "plt.figure(figsize=(10, 5))\n",
    "plt.plot(df['Year'], df['Polarity'], marker='o', label='Polarity (Tone)')\n",
    "plt.plot(df['Year'], df['Subjectivity'], marker='o', label='Subjectivity')\n",
    "plt.title("Apple 10-K Risk Factors Sentiment (Last 5 Years)")\n",
    "plt.xlabel("Year")\n",
    "plt.ylabel("Score")\n",
    "plt.legend()\n",
    "plt.grid(True)\n",
    "plt.show()"
   ]
  }
 ],
 "metadata": {
  "kernelspec": {
   "display_name": "Python 3",
   "language": "python",
   "name": "python3"
  },
  "language_info": {
   "name": "python",
   "version": ""
  }
 },
 "nbformat": 4,
 "nbformat_minor": 2
}
